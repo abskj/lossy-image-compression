{
 "cells": [
  {
   "cell_type": "code",
   "execution_count": 1,
   "metadata": {
    "_uuid": "676f62ff4ce2df1e2108b1ba11f1c68cb55a245d",
    "colab": {},
    "colab_type": "code",
    "id": "xmSic0K37La8"
   },
   "outputs": [
    {
     "data": {
      "text/plain": [
       "'\\nv0.1\\nThis model preoduced a MSSSIM score of 0.86 on validation.\\nIn this we attempt to improve the model.\\n'"
      ]
     },
     "execution_count": 1,
     "metadata": {},
     "output_type": "execute_result"
    }
   ],
   "source": [
    "'''\n",
    "v0.1\n",
    "This model preoduced a MSSSIM score of 0.86 on validation.\n",
    "In this we attempt to improve the model.\n",
    "'''"
   ]
  },
  {
   "cell_type": "code",
   "execution_count": 2,
   "metadata": {
    "_uuid": "08d96b04a7dbb3d82783b348aa0735ffd3e4ed41",
    "colab": {},
    "colab_type": "code",
    "id": "5GH93QhR7X1F"
   },
   "outputs": [
    {
     "name": "stdout",
     "output_type": "stream",
     "text": [
      "Cloning into 'pytorch-msssim'...\r\n",
      "remote: Enumerating objects: 132, done.\u001b[K\r\n",
      "remote: Total 132 (delta 0), reused 0 (delta 0), pack-reused 132\u001b[K\r\n",
      "Receiving objects: 100% (132/132), 1.23 MiB | 2.37 MiB/s, done.\r\n",
      "Resolving deltas: 100% (57/57), done.\r\n",
      "running install\r\n",
      "running build\r\n",
      "running build_py\r\n",
      "creating build\r\n",
      "creating build/lib\r\n",
      "creating build/lib/pytorch_msssim\r\n",
      "copying pytorch_msssim/__init__.py -> build/lib/pytorch_msssim\r\n",
      "running install_lib\r\n",
      "creating /opt/conda/lib/python3.6/site-packages/pytorch_msssim\r\n",
      "copying build/lib/pytorch_msssim/__init__.py -> /opt/conda/lib/python3.6/site-packages/pytorch_msssim\r\n",
      "byte-compiling /opt/conda/lib/python3.6/site-packages/pytorch_msssim/__init__.py to __init__.cpython-36.pyc\r\n",
      "running install_egg_info\r\n",
      "Writing /opt/conda/lib/python3.6/site-packages/pytorch_msssim-0.1-py3.6.egg-info\r\n"
     ]
    }
   ],
   "source": [
    "import os\n",
    "import cv2\n",
    "import torch\n",
    "import numpy as np\n",
    "import pandas as pd\n",
    "from PIL import Image\n",
    "import torch.nn as nn\n",
    "from zipfile import ZipFile\n",
    "import torch.nn.functional as F\n",
    "from torchvision import transforms\n",
    "import torchvision.transforms.functional as TF\n",
    "import random\n",
    "from torch.utils.data import Dataset, DataLoader\n",
    "from torch.utils.data.sampler import SubsetRandomSampler\n",
    "import matplotlib.pyplot as plt\n",
    "import time\n",
    "# Ignore warnings\n",
    "import warnings\n",
    "warnings.filterwarnings(\"ignore\")\n",
    "# from pydrive.auth import GoogleAuth\n",
    "# from pydrive.drive import GoogleDrive\n",
    "# from google.colab import auth\n",
    "# from oauth2client.client import GoogleCredentials\n",
    "%matplotlib inline\n",
    "import torchvision\n",
    "import zipfile\n",
    "from IPython import display\n",
    "from torch.autograd import Function\n",
    "!git clone https://github.com/jorge-pessoa/pytorch-msssim\n",
    "os.chdir('pytorch-msssim')\n",
    "!python setup.py install\n",
    "os.chdir('../')\n",
    "import pytorch_msssim"
   ]
  },
  {
   "cell_type": "code",
   "execution_count": 3,
   "metadata": {
    "_uuid": "911837df1b14b04e195bb7388a2f80f8a9f63a96",
    "colab": {},
    "colab_type": "code",
    "id": "XmPaI58b8pVH"
   },
   "outputs": [],
   "source": [
    "class imgDataset(Dataset):\n",
    "    def __init__(self,path = '../input',indices=None):\n",
    "        self.files = []\n",
    "        for r, d, f in os.walk(path):\n",
    "            for file in f:\n",
    "                if '.png' in file:\n",
    "                    self.files.append(os.path.join(r, file))\n",
    "        if indices!=None:\n",
    "            files2 = self.files\n",
    "            self.files = []\n",
    "            for i in range(len(files2)):\n",
    "                self.files.append(files2[i])\n",
    "\n",
    "    def __getitem__(self,idx):\n",
    "        img = Image.open(self.files[idx])\n",
    "        return self.transform(img)\n",
    "    def __len__(self):\n",
    "        return len(self.files)\n",
    "    def transform(self,img):\n",
    "        if random.random()>0.3:\n",
    "            angle = random.randint(-60, 60)\n",
    "            img = TF.rotate(img,angle)\n",
    "        width, height = img.size\n",
    "        dw = 32 - (width%32)\n",
    "        dh = 32 - (height%32)\n",
    "        img = TF.pad(img,(dw,dh,0,0))\n",
    "        return TF.to_tensor(img)"
   ]
  },
  {
   "cell_type": "code",
   "execution_count": 4,
   "metadata": {
    "_uuid": "3470fe9cbd73d8a07ff7231b36af75a57f8f9d8d"
   },
   "outputs": [],
   "source": [
    "\n",
    "class SignFunction(Function):\n",
    "    def __init__(self):\n",
    "        super(SignFunction,self).__init__()\n",
    "    @staticmethod\n",
    "    def forward(ctx,input, is_training=True):\n",
    "        if is_training:\n",
    "            prob = input.new(input.size()).uniform_()\n",
    "            x = input.clone()\n",
    "            x[(1 - input) / 2 <= prob] = 1\n",
    "            x[(1 - input) / 2 > prob] = -1\n",
    "            return x\n",
    "        else:\n",
    "            return input.sign()\n",
    "    @staticmethod\n",
    "    def backward(ctx, grad_output):\n",
    "        return grad_output, None\n",
    "        \n",
    "class Sign(nn.Module):\n",
    "    def __init__(self):\n",
    "        super(Sign, self).__init__()\n",
    "    def forward(self,x):\n",
    "        return SignFunction.apply(x, self.training)\n",
    "class Binarizer(nn.Module):\n",
    "    def __init__(self,in_channels,out_channels):\n",
    "        super(Binarizer,self).__init__()\n",
    "        self.sign = Sign()\n",
    "        self.conv1 = nn.Conv2d(in_channels, out_channels,kernel_size=1,bias=False)\n",
    "    def forward(self,x):\n",
    "        x = self.conv1(x)\n",
    "        x =  F.tanh(x)\n",
    "        return self.sign(x)\n",
    "        "
   ]
  },
  {
   "cell_type": "code",
   "execution_count": 5,
   "metadata": {
    "_uuid": "d0bbd381684eee172d207b957bf6ce291b6d53a2",
    "colab": {},
    "colab_type": "code",
    "id": "SrQK6be2sUxv"
   },
   "outputs": [],
   "source": [
    "class autoencoder(nn.Module):\n",
    "  def __init__(self):\n",
    "    super(autoencoder,self).__init__()\n",
    "    self.enc = nn.Sequential(nn.Conv2d(3,32,8,stride=4,padding=2),\n",
    "                            nn.ReLU(),\n",
    "                            nn.BatchNorm2d(32),\n",
    "                            nn.Conv2d(32,64,2,stride=2),\n",
    "                            nn.ReLU(),\n",
    "                            nn.BatchNorm2d(64),\n",
    "                            nn.Conv2d(64,128,2,stride=2,padding=0),\n",
    "                            nn.ReLU(),\n",
    "                            nn.BatchNorm2d(128),\n",
    "                            nn.Conv2d(128,128,3,stride=1,padding=1),\n",
    "                            nn.Sigmoid()\n",
    "                            )\n",
    "    self.dec = nn.Sequential(nn.ConvTranspose2d(128,64,8,stride=4, padding=2),\n",
    "                            nn.BatchNorm2d(64),\n",
    "                            nn.ReLU(),\n",
    "                            nn.ConvTranspose2d(64,32,2,2),\n",
    "                            nn.BatchNorm2d(32),\n",
    "                            nn.ReLU(),\n",
    "                            nn.ConvTranspose2d(32,3,2,2),\n",
    "#                             nn.BatchNorm2d(32),\n",
    "#                             nn.Conv2d(32,32,3,stride=1,padding=1),\n",
    "#                             nn.BatchNorm2d(32),\n",
    "#                             nn.ConvTranspose2d(32,3,2,2),\n",
    "#                             nn.Sigmoid()\n",
    "                            )\n",
    "    self.binarizer = Binarizer(128,128)\n",
    "  def forward(self,x):\n",
    "    \n",
    "    x = self.enc(x)\n",
    "    x = self.binarizer(x)\n",
    "#     print(x.shape)\n",
    "    x = self.dec(x)\n",
    "#     x = (x+1)*255\n",
    "#     x.round_()\n",
    "    return x\n",
    "    "
   ]
  },
  {
   "cell_type": "code",
   "execution_count": 6,
   "metadata": {
    "_uuid": "b1ca0abae2d2364af138671363c34de08e73c5c0",
    "colab": {},
    "colab_type": "code",
    "id": "b4O8zNLoQO6N"
   },
   "outputs": [],
   "source": [
    "batch_size = 1\n",
    "ds = imgDataset()\n",
    "validation_split = 0.1\n",
    "shuffle_dataset = True\n",
    "random_seed= 42\n",
    "# Creating data indices for training and validation splits:\n",
    "dataset_size = len(ds)\n",
    "indices = list(range(dataset_size))\n",
    "split = int(np.floor(validation_split * dataset_size))\n",
    "if shuffle_dataset :\n",
    "    np.random.seed(random_seed)\n",
    "    np.random.shuffle(indices)\n",
    "train_indices, val_indices = indices[split:], indices[:split]\n",
    "\n",
    "\n",
    "# Creating PT data samplers and loaders:\n",
    "train_sampler = SubsetRandomSampler(train_indices)\n",
    "validation_sampler = SubsetRandomSampler(val_indices)\n",
    "train_loader = torch.utils.data.DataLoader(ds,batch_size=batch_size,sampler=train_sampler)\n",
    "validation_loader = torch.utils.data.DataLoader(ds, batch_size=batch_size,sampler=validation_sampler)"
   ]
  },
  {
   "cell_type": "code",
   "execution_count": 7,
   "metadata": {
    "_uuid": "666fb34df46ae73f3039e3abc2fe634819007366",
    "colab": {},
    "colab_type": "code",
    "id": "JYhYkshfQTv-"
   },
   "outputs": [],
   "source": [
    "model=autoencoder().float()\n",
    "criterion =  nn.SmoothL1Loss()\n",
    "msssim = None\n",
    "optimizer = torch.optim.Adam(model.parameters(), lr=0.001)\n",
    "exp_lr_scheduler = torch.optim.lr_scheduler.MultiStepLR(optimizer, milestones=[25,40,60], gamma=0.1)\n",
    "if torch.cuda.is_available():\n",
    "    model = model.cuda()"
   ]
  },
  {
   "cell_type": "code",
   "execution_count": 8,
   "metadata": {
    "_uuid": "7b390b7b3bea92bf91a3414711f5c7cf677ebbee",
    "colab": {},
    "colab_type": "code",
    "id": "rDiqf5OmcF87"
   },
   "outputs": [],
   "source": [
    "def train(epoch=1,model=None,optimizer=None,criterion=None,batch_size=None,history=None,train_loader=None,exp_lr_scheduler=None,validation_loader=None):\n",
    "  while epoch<=stop_epoch:\n",
    "    total_loss = 0\n",
    "    total_accuracy = 0\n",
    "    model.train()\n",
    "    exp_lr_scheduler.step()\n",
    "    print('Epoch: {}\\tLR: {:.5f}'.format(epoch,exp_lr_scheduler.get_lr()[0]))\n",
    "    for batch_idx, data in enumerate(train_loader):\n",
    "      target = data\n",
    "      if torch.cuda.is_available():\n",
    "        data = data.cuda()\n",
    "        target = target.cuda()\n",
    "      # forward\n",
    "      output = model(data)\n",
    "      # backward + optimize\n",
    "      loss = criterion(output, target)\n",
    "      optimizer.zero_grad()\n",
    "      loss.backward()\n",
    "      optimizer.step()\n",
    "      # print statistics\n",
    "      total_loss+=loss\n",
    "#       print('Epoch: {} [{}/{} ({:.0f}%)]\\tLoss: {:.5f}'.format(epoch, (batch_idx + 1) * len(data), len(train_indices),100*(batch_idx + 1)* len(data) / len(train_indices), loss))\n",
    "    print('Train Loss: \\t'+str(total_loss*batch_size/len(train_indices)))\n",
    "    vloss, vaccuracy = validate(model,criterion,validation_loader)\n",
    "    history['train_losses'].append((total_loss*batch_size)/len(train_indices))\n",
    "    history['val_losses'].append((vloss*batch_size)/len(val_indices))\n",
    "    history['epoch_data'].append(epoch)\n",
    "#     visualize()\n",
    "    epoch=1+epoch"
   ]
  },
  {
   "cell_type": "code",
   "execution_count": 9,
   "metadata": {
    "_uuid": "9d62a0399450dae6a267f901d2118bff4c1f84d7",
    "colab": {},
    "colab_type": "code",
    "id": "U-n88wFX-fGz"
   },
   "outputs": [],
   "source": [
    "def validate(model,criterion,validation_loader):\n",
    "  total_loss = 0\n",
    "  total_acc = 0\n",
    "  model.train()\n",
    "  for batch_idx, data in enumerate(validation_loader):\n",
    "    target = data\n",
    "    if torch.cuda.is_available():\n",
    "      data = data.cuda()\n",
    "      target = target.cuda()\n",
    "    output = model(data)\n",
    "    loss = criterion(output, target).item()\n",
    "#     optimizer.zero_grad()\n",
    "#     loss.backward()\n",
    "#     optimizer.step()\n",
    "    total_loss+=loss\n",
    "    accuracy = 0\n",
    "    total_acc+=accuracy\n",
    "  return total_loss,total_acc\n",
    "def visualize(history):\n",
    "  plt.figure(figsize=(15,7))\n",
    "  plt.plot(history['epoch_data'], history['train_losses'],label=\"Train Loss {:.5f}\".format(history['train_losses'][-1]))\n",
    "  plt.plot(history['epoch_data'], history['val_losses'], label=\"Validation Loss {:.5f}\".format(history['val_losses'][-1]))\n",
    "#   plt.plot(history['epoch_data'], history['train_accuracy'],label=\"Train Accuracy {:.5f}\".format(history['train_accuracy'][-1]))\n",
    "#   plt.plot(history['epoch_data'], history['val_accuracy'], label=\"Validation Accuracy {:.5f}\".format(history['val_accuracy'][-1]))\n",
    "  display.clear_output(wait=False)\n",
    "  plt.legend()\n",
    "  plt.show()"
   ]
  },
  {
   "cell_type": "code",
   "execution_count": 10,
   "metadata": {
    "_uuid": "9c261d696a43b35fbc370302367359f4869f3451",
    "colab": {
     "base_uri": "https://localhost:8080/",
     "height": 659
    },
    "colab_type": "code",
    "id": "15qwd35ecGAI",
    "outputId": "d00ba44e-84f1-4df7-f0e3-7d943c665265"
   },
   "outputs": [
    {
     "name": "stdout",
     "output_type": "stream",
     "text": [
      "Epoch: 1\tLR: 0.00100\n",
      "Train Loss: \ttensor(0.0157, device='cuda:0', grad_fn=<DivBackward0>)\n",
      "Epoch: 2\tLR: 0.00100\n",
      "Train Loss: \ttensor(0.0087, device='cuda:0', grad_fn=<DivBackward0>)\n",
      "Epoch: 3\tLR: 0.00100\n",
      "Train Loss: \ttensor(0.0067, device='cuda:0', grad_fn=<DivBackward0>)\n",
      "Epoch: 4\tLR: 0.00100\n",
      "Train Loss: \ttensor(0.0056, device='cuda:0', grad_fn=<DivBackward0>)\n",
      "Epoch: 5\tLR: 0.00100\n",
      "Train Loss: \ttensor(0.0051, device='cuda:0', grad_fn=<DivBackward0>)\n",
      "Epoch: 6\tLR: 0.00100\n",
      "Train Loss: \ttensor(0.0045, device='cuda:0', grad_fn=<DivBackward0>)\n",
      "Epoch: 7\tLR: 0.00100\n",
      "Train Loss: \ttensor(0.0043, device='cuda:0', grad_fn=<DivBackward0>)\n",
      "Epoch: 8\tLR: 0.00100\n",
      "Train Loss: \ttensor(0.0040, device='cuda:0', grad_fn=<DivBackward0>)\n",
      "Epoch: 9\tLR: 0.00100\n",
      "Train Loss: \ttensor(0.0040, device='cuda:0', grad_fn=<DivBackward0>)\n",
      "Epoch: 10\tLR: 0.00100\n",
      "Train Loss: \ttensor(0.0036, device='cuda:0', grad_fn=<DivBackward0>)\n",
      "Epoch: 11\tLR: 0.00100\n",
      "Train Loss: \ttensor(0.0036, device='cuda:0', grad_fn=<DivBackward0>)\n",
      "Epoch: 12\tLR: 0.00100\n",
      "Train Loss: \ttensor(0.0034, device='cuda:0', grad_fn=<DivBackward0>)\n",
      "Epoch: 13\tLR: 0.00100\n",
      "Train Loss: \ttensor(0.0034, device='cuda:0', grad_fn=<DivBackward0>)\n",
      "Epoch: 14\tLR: 0.00100\n",
      "Train Loss: \ttensor(0.0033, device='cuda:0', grad_fn=<DivBackward0>)\n",
      "Epoch: 15\tLR: 0.00100\n",
      "Train Loss: \ttensor(0.0032, device='cuda:0', grad_fn=<DivBackward0>)\n",
      "Epoch: 16\tLR: 0.00100\n",
      "Train Loss: \ttensor(0.0031, device='cuda:0', grad_fn=<DivBackward0>)\n",
      "Epoch: 17\tLR: 0.00100\n",
      "Train Loss: \ttensor(0.0030, device='cuda:0', grad_fn=<DivBackward0>)\n",
      "Epoch: 18\tLR: 0.00100\n",
      "Train Loss: \ttensor(0.0030, device='cuda:0', grad_fn=<DivBackward0>)\n",
      "Epoch: 19\tLR: 0.00100\n",
      "Train Loss: \ttensor(0.0030, device='cuda:0', grad_fn=<DivBackward0>)\n",
      "Epoch: 20\tLR: 0.00100\n",
      "Train Loss: \ttensor(0.0029, device='cuda:0', grad_fn=<DivBackward0>)\n",
      "Epoch: 21\tLR: 0.00100\n",
      "Train Loss: \ttensor(0.0028, device='cuda:0', grad_fn=<DivBackward0>)\n",
      "Epoch: 22\tLR: 0.00100\n",
      "Train Loss: \ttensor(0.0028, device='cuda:0', grad_fn=<DivBackward0>)\n",
      "Epoch: 23\tLR: 0.00100\n",
      "Train Loss: \ttensor(0.0028, device='cuda:0', grad_fn=<DivBackward0>)\n",
      "Epoch: 24\tLR: 0.00100\n",
      "Train Loss: \ttensor(0.0027, device='cuda:0', grad_fn=<DivBackward0>)\n",
      "Epoch: 25\tLR: 0.00100\n",
      "Train Loss: \ttensor(0.0027, device='cuda:0', grad_fn=<DivBackward0>)\n",
      "Epoch: 26\tLR: 0.00010\n",
      "Train Loss: \ttensor(0.0024, device='cuda:0', grad_fn=<DivBackward0>)\n",
      "Epoch: 27\tLR: 0.00010\n",
      "Train Loss: \ttensor(0.0024, device='cuda:0', grad_fn=<DivBackward0>)\n",
      "Epoch: 28\tLR: 0.00010\n",
      "Train Loss: \ttensor(0.0024, device='cuda:0', grad_fn=<DivBackward0>)\n",
      "Epoch: 29\tLR: 0.00010\n",
      "Train Loss: \ttensor(0.0023, device='cuda:0', grad_fn=<DivBackward0>)\n",
      "Epoch: 30\tLR: 0.00010\n",
      "Train Loss: \ttensor(0.0023, device='cuda:0', grad_fn=<DivBackward0>)\n",
      "Epoch: 31\tLR: 0.00010\n",
      "Train Loss: \ttensor(0.0023, device='cuda:0', grad_fn=<DivBackward0>)\n",
      "12284.927605867386\n"
     ]
    }
   ],
   "source": [
    "history = {\n",
    "    'train_losses':[],\n",
    "    'val_losses' :[],\n",
    "    'epoch_data' : []\n",
    "}\n",
    "stop_epoch = 31\n",
    "start = time.time()\n",
    "train(model=model,optimizer=optimizer,criterion=criterion,batch_size=1,history=history,train_loader=train_loader,validation_loader=validation_loader,exp_lr_scheduler=exp_lr_scheduler)\n",
    "end = time.time()\n",
    "print(end-start)"
   ]
  },
  {
   "cell_type": "code",
   "execution_count": 11,
   "metadata": {
    "_uuid": "63f61e3828ce38328c2dc0e7d42118f0ad03814f"
   },
   "outputs": [
    {
     "data": {
      "image/png": "[encoded data removed]",
      "text/plain": [
       "<Figure size 1080x504 with 1 Axes>"
      ]
     },
     "metadata": {},
     "output_type": "display_data"
    }
   ],
   "source": [
    "visualize(history)"
   ]
  },
  {
   "cell_type": "code",
   "execution_count": 12,
   "metadata": {
    "_uuid": "47a7019d642d074335e5deb3f93ff457d74a62d6",
    "colab": {},
    "colab_type": "code",
    "id": "KwqD8ABdcGWp"
   },
   "outputs": [],
   "source": [
    "torch.save(model.state_dict(),'model101.pt')"
   ]
  },
  {
   "cell_type": "code",
   "execution_count": 13,
   "metadata": {
    "_uuid": "340bb0fbd379f8785aecb407368fcd89108b5196"
   },
   "outputs": [],
   "source": [
    "def save_checkpoint(state,filename):\n",
    "    torch.save(state, filename)"
   ]
  },
  {
   "cell_type": "code",
   "execution_count": 14,
   "metadata": {
    "_uuid": "a9131efecdeaec519b5f7dcdf9df5fb815baa068"
   },
   "outputs": [],
   "source": [
    "save_checkpoint({\n",
    "            'epoch': history['epoch_data'][-1] + 1,\n",
    "            'state_dict': model.state_dict(),\n",
    "            'optimizer' : optimizer.state_dict(),\n",
    "        }, 'train_state101.tar')"
   ]
  },
  {
   "cell_type": "code",
   "execution_count": 15,
   "metadata": {
    "_uuid": "0a1b9d8c98134a2db81330b8d45f7e0d6e3d14d2"
   },
   "outputs": [
    {
     "name": "stdout",
     "output_type": "stream",
     "text": [
      "__notebook__.ipynb  model101.pt     train_state101.tar\r\n",
      "__output__.json     pytorch-msssim\r\n"
     ]
    }
   ],
   "source": [
    "!ls"
   ]
  },
  {
   "cell_type": "markdown",
   "metadata": {},
   "source": [
    "## Performance Measurement"
   ]
  },
  {
   "cell_type": "code",
   "execution_count": 16,
   "metadata": {
    "_uuid": "18d28a78688441f22105ccc5e539bca19f601ffc"
   },
   "outputs": [],
   "source": [
    "def display_(x):\n",
    "    if type(x) is tuple:\n",
    "        img,out = x\n",
    "        fig, axes = plt.subplots(ncols=1,nrows=2,figsize=(18,30))\n",
    "        axes.ravel()[0].imshow(img)\n",
    "        axes.ravel()[0].set_title('Original')\n",
    "        axes.ravel()[1].imshow(out)\n",
    "        axes.ravel()[1].set_title('After Compression')\n",
    "        plt.show()\n",
    "    else:\n",
    "        plt.imshow(x)\n",
    "        \n",
    "def evaluate(ds,idx, showImages = False):\n",
    "    model.eval()\n",
    "    x = ds[idx]\n",
    "    iimg = TF.to_pil_image(x)\n",
    "    x=x.unsqueeze(0).cuda()\n",
    "    y = model(x)\n",
    "    oimg = TF.to_pil_image(y.squeeze(0).cpu().detach())\n",
    "    score = (pytorch_msssim.msssim(x, y).item())\n",
    "#     print(\"MSSSIM score is {:.5f}\".format(score))\n",
    "    if showImages:\n",
    "        display_((iimg,oimg))\n",
    "    return score"
   ]
  },
  {
   "cell_type": "code",
   "execution_count": 17,
   "metadata": {},
   "outputs": [
    {
     "name": "stdout",
     "output_type": "stream",
     "text": [
      "Average MSSSIM on validation is 0.85412\n"
     ]
    }
   ],
   "source": [
    "vds = imgDataset(indices=val_indices)\n",
    "total_score=0\n",
    "for i in range(0,len(vds)):\n",
    "    total_score += evaluate(vds,i)\n",
    "print('Average MSSSIM on validation is {:.5f}'.format(total_score/len(vds)))"
   ]
  },
  {
   "cell_type": "code",
   "execution_count": 18,
   "metadata": {},
   "outputs": [],
   "source": [
    "import shutil\n",
    "shutil.rmtree('pytorch-msssim')"
   ]
  },
  {
   "cell_type": "code",
   "execution_count": 19,
   "metadata": {},
   "outputs": [],
   "source": []
  },
  {
   "cell_type": "code",
   "execution_count": 19,
   "metadata": {},
   "outputs": [],
   "source": []
  }
 ],
 "metadata": {
  "accelerator": "GPU",
  "colab": {
   "collapsed_sections": [],
   "name": "comprznCNNbasic.ipynb",
   "provenance": [],
   "version": "0.3.2"
  },
  "kernelspec": {
   "display_name": "Python 3",
   "language": "python",
   "name": "python3"
  },
  "language_info": {
   "codemirror_mode": {
    "name": "ipython",
    "version": 3
   },
   "file_extension": ".py",
   "mimetype": "text/x-python",
   "name": "python",
   "nbconvert_exporter": "python",
   "pygments_lexer": "ipython3",
   "version": "3.6.6"
  }
 },
 "nbformat": 4,
 "nbformat_minor": 1
}
